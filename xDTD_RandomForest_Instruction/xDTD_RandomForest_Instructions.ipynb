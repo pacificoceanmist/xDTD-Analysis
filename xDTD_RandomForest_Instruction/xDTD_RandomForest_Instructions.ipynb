{
 "cells": [
  {
   "cell_type": "markdown",
   "metadata": {},
   "source": [
    "## Instructions for Using the Models and Data\n",
    "Adapted from Chunyu Ma's xDTD training pipline\n",
    "\n",
    "__Data Location__: /scratch/shared_data_new/xDTD_data_for_stephanie\n",
    "\n",
    "__Description__: \n",
    "There are three folders corresponding to different versions of models: v2.8.0.1, v2.8.3, and v2.8.6. Each folder has a similar structure with a `data` subfolder containing the nodes and edges information of the knowledge graph used in that version, and a `models` subfolder containing the trained models and necessary files. \n",
    "\n",
    "\n",
    "Please refer to the code below for an example of how to use data and models:"
   ]
  },
  {
   "cell_type": "markdown",
   "metadata": {},
   "source": [
    "# Installation"
   ]
  },
  {
   "cell_type": "code",
   "execution_count": null,
   "metadata": {},
   "outputs": [],
   "source": [
    "# To run this script first install conda and then configure the conda environment\n",
    "conda env create -f envs/graphsage_p2.7env.yml\n",
    "conda env create -f envs/xDTD_training_pipeline_env.yml"
   ]
  },
  {
   "cell_type": "markdown",
   "metadata": {},
   "source": [
    "**Troubleshoot Tip**: Try installing Mamba to activate the enviornment if conda command does not work. Replace conda with `mamba` to create/configure environment."
   ]
  },
  {
   "cell_type": "code",
   "execution_count": null,
   "metadata": {},
   "outputs": [],
   "source": [
    "# Activiate the 'xDTD_training_pipeline' conda environment\n",
    "conda activate xDTD_training_pipeline"
   ]
  },
  {
   "cell_type": "code",
   "execution_count": null,
   "metadata": {},
   "outputs": [],
   "source": [
    "from tqdm.notebook import tqdm\n",
    "from time import sleep"
   ]
  },
  {
   "cell_type": "markdown",
   "metadata": {},
   "source": [
    "### Load Packages"
   ]
  },
  {
   "cell_type": "code",
   "execution_count": null,
   "metadata": {},
   "outputs": [],
   "source": [
    "import os, sys\n",
    "import numpy as np\n",
    "import pickle\n",
    "import joblib\n",
    "import pandas as pd\n",
    "import csv\n",
    "csv.field_size_limit(100000000)"
   ]
  },
  {
   "cell_type": "markdown",
   "metadata": {},
   "source": [
    "### Input Functions"
   ]
  },
  {
   "cell_type": "code",
   "execution_count": null,
   "metadata": {},
   "outputs": [],
   "source": [
    "import csv\n",
    "from tqdm import tqdm\n",
    "\n",
    "def read_tsv_file(file_path, encoding='utf-8'):\n",
    "    with open(file_path, newline='', encoding=encoding) as f:\n",
    "        reader = csv.reader(f, delimiter='\\t')\n",
    "        # Wrap reader with tqdm for a progress bar\n",
    "        data = [row for row in tqdm(reader, desc=f\"Reading {file_path}\")]\n",
    "    return data\n",
    "\n",
    "def load_index(input_path):\n",
    "    name_to_id, id_to_name = {}, {}\n",
    "    with open(input_path) as f:\n",
    "        lines = f.readlines()\n",
    "        # Wrap lines with tqdm for a progress bar\n",
    "        for index, line in tqdm(enumerate(lines), total=len(lines), desc=f\"Loading index from {input_path}\"):\n",
    "            name, _ = line.strip().split('\\t')\n",
    "            name_to_id[name] = index\n",
    "            id_to_name[index] = name\n",
    "    return name_to_id, id_to_name"
   ]
  },
  {
   "cell_type": "markdown",
   "metadata": {},
   "source": [
    "### Set Up Parameters"
   ]
  },
  {
   "cell_type": "code",
   "execution_count": null,
   "metadata": {},
   "outputs": [],
   "source": [
    "version = 'v2.8.0.1' # to analyze different model change the version e.g. v2.8.3, v2.8.6\n",
    "dir_path = os.path.join(os.getcwd(), version)"
   ]
  },
  {
   "cell_type": "markdown",
   "metadata": {},
   "source": [
    "### Load Node and Edge Info "
   ]
  },
  {
   "cell_type": "code",
   "execution_count": null,
   "metadata": {},
   "outputs": [],
   "source": [
    "## read node info\n",
    "nodes_c_header = read_tsv_file(os.path.join(dir_path, 'data', 'nodes_c_header.tsv'))[0]\n",
    "nodes_c = read_tsv_file(os.path.join(dir_path, 'data', 'nodes_c.tsv'))\n",
    "node_to_info = {x[0]:x[1:] for x in nodes_c}\n",
    "\n",
    "## read edge info\n",
    "edges_c_header = read_tsv_file(os.path.join(dir_path, 'data', 'edges_c_header.tsv'))[0]\n",
    "edges_c = read_tsv_file(os.path.join(dir_path, 'data', 'edges_c.tsv'))"
   ]
  },
  {
   "cell_type": "markdown",
   "metadata": {},
   "source": [
    "### Read Embeddings"
   ]
  },
  {
   "cell_type": "code",
   "execution_count": null,
   "metadata": {},
   "outputs": [],
   "source": [
    "node_embeddings = np.load(os.path.join(dir_path, 'models', 'RF_model_3class', 'entity_embeddings.npy'))\n",
    "entity2id, id2entity = load_index(os.path.join(dir_path, 'models', 'RF_model_3class', 'entity2freq.txt'))\n",
    "entity_embeddings_dict = {key:node_embeddings[value] for key, value in entity2id.items() if value != 0}"
   ]
  },
  {
   "cell_type": "markdown",
   "metadata": {},
   "source": [
    "### Load Random Forest model"
   ]
  },
  {
   "cell_type": "code",
   "execution_count": null,
   "metadata": {},
   "outputs": [],
   "source": [
    "## Note: Make sure sk-learn is installed \n",
    "# to check if sk-learn is installed use this command: python -c \"import sklearn; print(sklearn. __version__)\"\n",
    "\n",
    "RF_model = joblib.load(os.path.join(dir_path, 'models', 'RF_model_3class', 'RF_model.pt'))"
   ]
  },
  {
   "cell_type": "markdown",
   "metadata": {},
   "source": [
    "### Query interested drug-disease pairs"
   ]
  },
  {
   "cell_type": "code",
   "execution_count": null,
   "metadata": {},
   "outputs": [],
   "source": [
    "# Load Drug disease pairs of interest\n",
    "pairs = [('PUBCHEM.COMPOUND:456255', 'MONDO:0021680'),('PUBCHEM.COMPOUND:4583', 'MONDO:0005247'),('PUBCHEM.COMPOUND:2082', 'MONDO:0019444'),\n",
    "         ('PUBCHEM.COMPOUND:4583', 'MONDO:0024355'),('PUBCHEM.COMPOUND:4583', 'MONDO:0005972'),('PUBCHEM.COMPOUND:9782', 'MONDO:0011786'),\n",
    "         ('PUBCHEM.COMPOUND:456255', 'MONDO:0020920'),('PUBCHEM.COMPOUND:9782', 'MONDO:0006608'),('PUBCHEM.COMPOUND:38103', 'MONDO:0002258'),\n",
    "         ('PUBCHEM.COMPOUND:4485', 'MONDO:0001134'),('PUBCHEM.COMPOUND:51039', 'MONDO:0005230'),('PUBCHEM.COMPOUND:9782', 'MONDO:0005185'),\n",
    "         ('PUBCHEM.COMPOUND:5865', 'MONDO:0000870'),('PUBCHEM.COMPOUND:2726', 'MONDO:0011295'),('CHEMBL.COMPOUND:CHEMBL1481', 'MONDO:0012818'),\n",
    "         ('PUBCHEM.COMPOUND:6741', 'MONDO:0006554'),('PUBCHEM.COMPOUND:2662', 'MONDO:0011923'),('PUBCHEM.COMPOUND:2710', 'MONDO:0005324'),\n",
    "         ('PUBCHEM.COMPOUND:5743', 'MONDO:0004967'),('PUBCHEM.COMPOUND:456255', 'MONDO:0005545'),('PUBCHEM.COMPOUND:5591', 'MONDO:0010894'),\n",
    "         ('PUBCHEM.COMPOUND:38103', 'MONDO:0009813'),('PUBCHEM.COMPOUND:456255', 'MONDO:0005970'),('PUBCHEM.COMPOUND:5743', 'MONDO:0006670'),\n",
    "         ('PUBCHEM.COMPOUND:126941', 'MONDO:0018874'),('PUBCHEM.COMPOUND:441199', 'MONDO:0006816'),('PUBCHEM.COMPOUND:60149', 'MONDO:0011307'),\n",
    "         ('PUBCHEM.COMPOUND:5865', 'MONDO:0005306'),('PUBCHEM.COMPOUND:5073', 'MONDO:0012054'),('PUBCHEM.COMPOUND:2082', 'MONDO:0005996'),\n",
    "         ('PUBCHEM.COMPOUND:456255', 'MONDO:0005229'),('PUBCHEM.COMPOUND:4583', 'MONDO:0004264'),('PUBCHEM.COMPOUND:9782', 'MONDO:0008728'),\n",
    "         ('PUBCHEM.COMPOUND:6741', 'MONDO:0007243'),('PUBCHEM.COMPOUND:3878', 'MONDO:0005384'),('PUBCHEM.COMPOUND:5503', 'MONDO:0011667'),\n",
    "         ('PUBCHEM.COMPOUND:3394', 'MONDO:0005178'),('PUBCHEM.COMPOUND:5591', 'MONDO:0007453'),('PUBCHEM.COMPOUND:2726', 'MONDO:0013498'),\n",
    "         ('PUBCHEM.COMPOUND:4912', 'MONDO:0012893'),('PUBCHEM.COMPOUND:4921', 'MONDO:0008143'),('PUBCHEM.COMPOUND:5754', 'MONDO:0005984'),\n",
    "         ('PUBCHEM.COMPOUND:31307', 'MONDO:0019558'),('PUBCHEM.COMPOUND:3478', 'MONDO:0011668'),('PUBCHEM.COMPOUND:5591', 'MONDO:0013242'),\n",
    "         ('PUBCHEM.COMPOUND:2726', 'MONDO:0011280'),('PUBCHEM.COMPOUND:5503', 'MONDO:0014674'),('PUBCHEM.COMPOUND:9782', 'MONDO:0013108'),\n",
    "         ('PUBCHEM.COMPOUND:5865', 'MONDO:0007817'),('PUBCHEM.COMPOUND:5743', 'MONDO:0005615'),('PUBCHEM.COMPOUND:5865', 'MONDO:0012105'),\n",
    "         ('PUBCHEM.COMPOUND:38103', 'MONDO:0001039'),('PUBCHEM.COMPOUND:126941', 'MONDO:0008903'),('PUBCHEM.COMPOUND:9782', 'MONDO:0010273'),\n",
    "         ('PUBCHEM.COMPOUND:5282411', 'MONDO:0005709'),('PUBCHEM.COMPOUND:3690', 'MONDO:0004948'),('PUBCHEM.COMPOUND:5865', 'MONDO:0000607'),\n",
    "         ('PUBCHEM.COMPOUND:3446', 'MONDO:0000675'),('PUBCHEM.COMPOUND:4583', 'MONDO:0005297'),('PUBCHEM.COMPOUND:2082', 'MONDO:0005654'),\n",
    "         ('PUBCHEM.COMPOUND:4583', 'MONDO:0005619'),('PUBCHEM.COMPOUND:444008', 'MONDO:0008159'),('PUBCHEM.COMPOUND:5865', 'MONDO:0011849'),\n",
    "         ('PUBCHEM.COMPOUND:5743', 'MONDO:0018479'),('PUBCHEM.COMPOUND:4583', 'MONDO:0005246'),('PUBCHEM.COMPOUND:126941', 'MONDO:0004638'),\n",
    "         ('PUBCHEM.COMPOUND:9782', 'MONDO:0015898'),('PUBCHEM.COMPOUND:5865', 'MONDO:0004126'),('PUBCHEM.COMPOUND:5388906', 'MONDO:0005861'),\n",
    "         ('PUBCHEM.COMPOUND:2726', 'MONDO:0005618'),('PUBCHEM.COMPOUND:5743', 'MONDO:0021166'),('PUBCHEM.COMPOUND:6741', 'MONDO:0006545'),\n",
    "         ('PUBCHEM.COMPOUND:51039', 'MONDO:0004652'),('PUBCHEM.COMPOUND:5743', 'MONDO:0008558'),('PUBCHEM.COMPOUND:9782', 'MONDO:0005083'),\n",
    "         ('PUBCHEM.COMPOUND:5282493', 'MONDO:0005480'),('PUBCHEM.COMPOUND:5865', 'MONDO:0001713'),('PUBCHEM.COMPOUND:9782', 'MONDO:0001405'),\n",
    "         ('CHEMBL.COMPOUND:CHEMBL1481', 'MONDO:0011955'),('PUBCHEM.COMPOUND:5503', 'MONDO:0005148'),('PUBCHEM.COMPOUND:3823', 'MONDO:0001461'),\n",
    "         ('PUBCHEM.COMPOUND:5865', 'MONDO:0005554'),('PUBCHEM.COMPOUND:5865', 'MONDO:0004956'),('PUBCHEM.COMPOUND:9782', 'MONDO:0006547'),\n",
    "         ('PUBCHEM.COMPOUND:3878', 'MONDO:0010826'),('PUBCHEM.COMPOUND:4583', 'MONDO:0005945'),('PUBCHEM.COMPOUND:9782', 'MONDO:0008729'),\n",
    "         ('PUBCHEM.COMPOUND:3823', 'MONDO:0005915'),('PUBCHEM.COMPOUND:5770', 'MONDO:0011294'),('PUBCHEM.COMPOUND:5578', 'MONDO:0024330'),\n",
    "         ('PUBCHEM.COMPOUND:6216', 'MONDO:0004980'),('PUBCHEM.COMPOUND:3823', 'MONDO:0005672'),('PUBCHEM.COMPOUND:2726', 'MONDO:0011498'),\n",
    "         ('PUBCHEM.COMPOUND:5073', 'MONDO:0011552'),('PUBCHEM.COMPOUND:3878', 'MONDO:0016532'),('PUBCHEM.COMPOUND:135398735', 'MONDO:0012268'),\n",
    "         ('PUBCHEM.COMPOUND:5865', 'MONDO:0015614'),('PUBCHEM.COMPOUND:5754', 'MONDO:0014241'),('PUBCHEM.COMPOUND:4583', 'MONDO:0018076'),\n",
    "         ('PUBCHEM.COMPOUND:5743', 'MONDO:0006042'),('PUBCHEM.COMPOUND:2082', 'MONDO:0001103'),('PUBCHEM.COMPOUND:441401', 'MONDO:0024313'),\n",
    "         ('PUBCHEM.COMPOUND:60750', 'MONDO:0024879'),('PUBCHEM.COMPOUND:4583', 'MONDO:0005124'),('PUBCHEM.COMPOUND:5865', 'MONDO:0009539'),\n",
    "         ('CHEMBL.COMPOUND:CHEMBL1481', 'MONDO:0011072'),('PUBCHEM.COMPOUND:5865', 'MONDO:0005556'),('PUBCHEM.COMPOUND:451668', 'MONDO:0005374'),\n",
    "         ('PUBCHEM.COMPOUND:2554', 'MONDO:0008414'),('PUBCHEM.COMPOUND:5865', 'MONDO:0001198'),('PUBCHEM.COMPOUND:5865', 'MONDO:0019203'),\n",
    "         ('PUBCHEM.COMPOUND:5743', 'MONDO:0009971'),('PUBCHEM.COMPOUND:5865', 'MONDO:0001509'),('PUBCHEM.COMPOUND:9782', 'MONDO:0013294'),\n",
    "         ('PUBCHEM.COMPOUND:5324346', 'MONDO:0001247'),('PUBCHEM.COMPOUND:5754', 'MONDO:0004773'),('PUBCHEM.COMPOUND:135398745', 'MONDO:0002009'),\n",
    "         ('PUBCHEM.COMPOUND:135398735', 'MONDO:0000369'),('PUBCHEM.COMPOUND:5865', 'MONDO:0012935'),('PUBCHEM.COMPOUND:5073', 'MONDO:0013089'),\n",
    "         ('PUBCHEM.COMPOUND:6741', 'MONDO:0008725'),('PUBCHEM.COMPOUND:441314', 'MONDO:0013240'),('PUBCHEM.COMPOUND:60750', 'MONDO:0021040'),\n",
    "         ('PUBCHEM.COMPOUND:6741', 'MONDO:0010762'),('PUBCHEM.COMPOUND:6741', 'MONDO:0043455'),('PUBCHEM.COMPOUND:9782', 'MONDO:0006548'),\n",
    "         ('PUBCHEM.COMPOUND:3151', 'MONDO:0002268'),('PUBCHEM.COMPOUND:441401', 'MONDO:0017776'),('PUBCHEM.COMPOUND:2576', 'MONDO:0001830'),\n",
    "         ('PUBCHEM.COMPOUND:6741', 'MONDO:0005377'),('PUBCHEM.COMPOUND:6509979', 'MONDO:0011598'),('CHEMBL.COMPOUND:CHEMBL1481', 'MONDO:0011363'),\n",
    "         ('PUBCHEM.COMPOUND:9782', 'MONDO:0013893'),('PUBCHEM.COMPOUND:3478', 'MONDO:0012348'),('PUBCHEM.COMPOUND:6741', 'MONDO:0013730'),\n",
    "         ('PUBCHEM.COMPOUND:51039', 'MONDO:0005892'),('PUBCHEM.COMPOUND:5865', 'MONDO:0019127'),('PUBCHEM.COMPOUND:5754', 'MONDO:0004857'),\n",
    "         ('PUBCHEM.COMPOUND:126941', 'MONDO:0005340'),('PUBCHEM.COMPOUND:5865', 'MONDO:0005093'),('PUBCHEM.COMPOUND:2726', 'MONDO:0013506'),\n",
    "         ('PUBCHEM.COMPOUND:4173', 'MONDO:0002154'),('PUBCHEM.COMPOUND:4173', 'MONDO:0006669'),('PUBCHEM.COMPOUND:2165', 'MONDO:0005920'),\n",
    "         ('PUBCHEM.COMPOUND:4659569', 'MONDO:0014604'),('PUBCHEM.COMPOUND:3394', 'MONDO:0008383'),('PUBCHEM.COMPOUND:5311066', 'MONDO:0006569'),\n",
    "         ('PUBCHEM.COMPOUND:92727', 'MONDO:0005109'),('PUBCHEM.COMPOUND:3823', 'MONDO:0001648'),('PUBCHEM.COMPOUND:5865', 'MONDO:0002081'),\n",
    "         ('PUBCHEM.COMPOUND:6741', 'MONDO:0043789'),('PUBCHEM.COMPOUND:5865', 'MONDO:0012318'),('PUBCHEM.COMPOUND:5503', 'MONDO:0011027'),\n",
    "         ('PUBCHEM.COMPOUND:5865', 'MONDO:0008219')]"
   ]
  },
  {
   "cell_type": "markdown",
   "metadata": {},
   "source": [
    "### Predict Probabilities: Drug-Diease pairs"
   ]
  },
  {
   "cell_type": "code",
   "execution_count": null,
   "metadata": {},
   "outputs": [],
   "source": [
    "X = np.vstack([np.hstack([entity_embeddings_dict[drug_curie_id],entity_embeddings_dict[disease_curie]]\n",
    "                        ) for drug_curie_id, disease_curie in pairs])\n",
    "res_temp = RF_model.predict_proba(X)\n",
    "res = pd.concat([pd.DataFrame(pairs),pd.DataFrame(res_temp)], axis=1)\n",
    "res.columns = ['drug_id','disease_id','tn_score','tp_score','unknown_score']"
   ]
  },
  {
   "cell_type": "code",
   "execution_count": null,
   "metadata": {},
   "outputs": [],
   "source": [
    "res_temp # displays the prediction probability in arrays"
   ]
  },
  {
   "cell_type": "code",
   "execution_count": null,
   "metadata": {},
   "outputs": [],
   "source": [
    "res"
   ]
  },
  {
   "cell_type": "code",
   "execution_count": null,
   "metadata": {},
   "outputs": [],
   "source": [
    "# Export the result as csv file\n",
    "f_path = '/scratch/shared_data_new/xDTD_data_for_stephanie/RF_prediction/v2.8.0.1_RF_pairs.csv'\n",
    "res.to_csv(f_path, index=False)"
   ]
  },
  {
   "cell_type": "code",
   "execution_count": null,
   "metadata": {},
   "outputs": [],
   "source": []
  }
 ],
 "metadata": {
  "kernelspec": {
   "display_name": "Python 3 (ipykernel)",
   "language": "python",
   "name": "python3"
  },
  "language_info": {
   "codemirror_mode": {
    "name": "ipython",
    "version": 3
   },
   "file_extension": ".py",
   "mimetype": "text/x-python",
   "name": "python",
   "nbconvert_exporter": "python",
   "pygments_lexer": "ipython3",
   "version": "3.11.5"
  }
 },
 "nbformat": 4,
 "nbformat_minor": 4
}
