{
 "cells": [
  {
   "cell_type": "markdown",
   "id": "f1fe6fe6-fd2a-4df7-b32a-e977f8a6c127",
   "metadata": {},
   "source": [
    "## Instructions for Using the Script and Data\n",
    "\n",
    "__Data Location__: /data/sjw6257/xDTD_database/zip_files/tables (`.tar.gz` file of data)\n",
    "\n",
    "__Description__: \n",
    "This script is to conduct schema analysis for each model's Node. The data for each model is stored in KG databases (SQLite). There are three models: ExplainableDTD_v1.3_KG2.8.0.1, ExplainableDTD_v1.0_KG2.8.3, ExplainableDTD_v1.0_KG2.8.6. Extract `NODE_MAPPING_TABLE` in CSV file format from the databases in order to conduct the following analysis.\n",
    "\n",
    "Please refer to the code below as example for the schema analysis:"
   ]
  },
  {
   "cell_type": "code",
   "execution_count": null,
   "id": "f11abaf5-fb13-42cb-b4a8-703a17594f24",
   "metadata": {},
   "outputs": [],
   "source": [
    "# Set working directory\n",
    "# Copy and transfer the compressed data file (tar.gz) to the working directory before starting\n",
    "\n",
    "import os\n",
    "os.chdir('/home/grads/sjw6257/xDTD/xDTD_analysis')\n",
    "\n",
    "import pandas as pd\n",
    "import numpy as np\n",
    "import seaborn as sns\n",
    "import matplotlib.pyplot as plt\n",
    "import scipy.stats as stats"
   ]
  },
  {
   "cell_type": "markdown",
   "id": "8c460c8e-8af4-4185-80ba-1c617b86bf4e",
   "metadata": {},
   "source": [
    "### Extract Node Representative ID('id' column)"
   ]
  },
  {
   "cell_type": "code",
   "execution_count": null,
   "id": "8f9725d4-a844-49e8-b7d4-298909d93bd5",
   "metadata": {},
   "outputs": [],
   "source": [
    "df_2801 = pd.read_csv('KG2.8.0.1_NodeMapping.csv', dtype='unicode', low_memory=False)\n",
    "df_2801 = df_2801[['id','name']] \n",
    "#df_2801"
   ]
  },
  {
   "cell_type": "code",
   "execution_count": null,
   "id": "5baa4d23-724f-4bcc-a343-927b1e2ae3dc",
   "metadata": {},
   "outputs": [],
   "source": [
    "df_283 = pd.read_csv('KG2.8.3_NodeMapping.csv', dtype='unicode', low_memory=False)\n",
    "df_283 = df_283[['id','name']]\n",
    "#df_283"
   ]
  },
  {
   "cell_type": "code",
   "execution_count": null,
   "id": "0925fbc7-20b7-476d-aa62-39a3645e71b0",
   "metadata": {},
   "outputs": [],
   "source": [
    "df_286 = pd.read_csv('KG2.8.6_NodeMapping.csv', dtype='unicode', low_memory=False)\n",
    "df_286 = df_286[['id','name']]\n",
    "#df_286"
   ]
  },
  {
   "cell_type": "code",
   "execution_count": null,
   "id": "22b9a8e5-4f58-4b31-bb3a-cffa52aec573",
   "metadata": {},
   "outputs": [],
   "source": []
  },
  {
   "cell_type": "markdown",
   "id": "41bdef62-20fc-4e33-97b7-8b5a772de32e",
   "metadata": {},
   "source": [
    "### Model v2.8.0.1 versus Model v2.8.3 Comparison"
   ]
  },
  {
   "cell_type": "code",
   "execution_count": null,
   "id": "9a5e620a-a1c2-48c8-8f0d-44426a0eef99",
   "metadata": {},
   "outputs": [],
   "source": [
    "df_2801_intr_283 = pd.merge(df_2801,df_283, how='inner', on=['id'],suffixes=('_2801','_283')) \n",
    "df_2801_intr_283 "
   ]
  },
  {
   "cell_type": "code",
   "execution_count": null,
   "id": "41872085-f48b-4f5c-9e57-a45f15f34c08",
   "metadata": {},
   "outputs": [],
   "source": [
    "# How much of the intersect match in respect to each database\n",
    "\n",
    "percent_match_1 = (len(df_2801_intr_283[['id']]) / len(df_2801[['id']])) * 100\n",
    "percent_match_2 = len(df_2801_intr_283[['id']])/ len(df_283[['id']]) *100\n",
    "print(f\"\\nPercentage of IDs in df_2801 that match: {percent_match_1:.2f}%\")\n",
    "print(f\"\\nPercentage of IDs in df_283 that match: {percent_match_2:.2f}%\")"
   ]
  },
  {
   "cell_type": "markdown",
   "id": "3cb73615-c984-4299-a5cd-f44955935bd3",
   "metadata": {},
   "source": [
    "### Model v2.8.0.1 versus Model v2.8.6 Comparison"
   ]
  },
  {
   "cell_type": "code",
   "execution_count": null,
   "id": "d567976b-b65d-45db-8265-fd7558cb63e8",
   "metadata": {},
   "outputs": [],
   "source": [
    "df_2801_intr_286 = pd.merge(df_2801,df_286, how='inner', on=['id'], suffixes=('_2801','_286')) \n",
    "df_2801_intr_286"
   ]
  },
  {
   "cell_type": "code",
   "execution_count": null,
   "id": "0e5b9cc9-5310-463a-9b0b-68e49afb26b6",
   "metadata": {},
   "outputs": [],
   "source": [
    "# How much of the intersect match in respect to each dataframes\n",
    "\n",
    "percent_match_1 = (len(df_2801_intr_286[['id']]) / len(df_2801[['id']])) * 100\n",
    "percent_match_2 = len(df_2801_intr_286[['id']])/ len(df_286[['id']]) *100\n",
    "print(f\"\\nPercentage of IDs in df_2801 that match: {percent_match_1:.2f}%\")\n",
    "print(f\"\\nPercentage of IDs in df_286 that match: {percent_match_2:.2f}%\")"
   ]
  },
  {
   "cell_type": "markdown",
   "id": "c14c1553-0bb5-4d69-ae88-21a25cb74602",
   "metadata": {},
   "source": [
    "### Model v2.8.3 versus Model v2.8.6 Comparison"
   ]
  },
  {
   "cell_type": "code",
   "execution_count": null,
   "id": "4ce16812-f439-4531-a942-68d1e300caa2",
   "metadata": {},
   "outputs": [],
   "source": [
    "df_283_intr_286 = pd.merge(df_283,df_286, how='inner', on=['id'],suffixes=('_283','_286')) \n",
    "df_283_intr_286 "
   ]
  },
  {
   "cell_type": "code",
   "execution_count": null,
   "id": "6a880459-e87c-499f-a1e6-b74efdd3f052",
   "metadata": {},
   "outputs": [],
   "source": [
    "# How much of the intersect match in respect to each dataframes\n",
    "\n",
    "percent_match_1 = (len(df_283_intr_286[['id']]) / len(df_283[['id']])) * 100\n",
    "percent_match_2 = len(df_283_intr_286[['id']])/ len(df_286[['id']]) *100\n",
    "print(f\"\\nPercentage of IDs in df_283 that match: {percent_match_1:.2f}%\")\n",
    "print(f\"\\nPercentage of IDs in df_286 that match: {percent_match_2:.2f}%\")"
   ]
  },
  {
   "cell_type": "markdown",
   "id": "85bf5dce-b9b4-40bd-9d7d-91629b336574",
   "metadata": {},
   "source": [
    "### Drug-Disease Pairs present in ALL three models"
   ]
  },
  {
   "cell_type": "code",
   "execution_count": null,
   "id": "f7b5b107-8c60-4748-abea-085fa3f0af07",
   "metadata": {},
   "outputs": [],
   "source": [
    "# Looking at representative id's that are present in ALL THREE KG2.8.0.1, KG2.8.3_refresh, and KG2.8.6\n",
    "\n",
    "df = df_2801.merge(df_283, on=['id']).merge(df_286, on=['id'], suffixes=('_2801','_286','_283'))\n",
    "df.columns = ['id','2801', '283', '286'] # rename column\n",
    "\n",
    "df_all = df[['id']]\n",
    "df_all"
   ]
  },
  {
   "cell_type": "code",
   "execution_count": null,
   "id": "b36a5c5b-bb5b-4e3e-abf8-580a66f89eb9",
   "metadata": {},
   "outputs": [],
   "source": [
    "dataframes = {'df_2801': df_2801, 'df_283': df_283, 'df_286': df_286}\n",
    "for name, df in dataframes.items():\n",
    "    percent_match = len(df_all) / len(df[['id']]) * 100\n",
    "    print(f\"\\nPercentage of matching IDs in {name}: {percent_match:.2f}%\")\n"
   ]
  },
  {
   "cell_type": "markdown",
   "id": "31f875f5-7ae3-4b07-b858-c5093bfa84dd",
   "metadata": {},
   "source": [
    "### Venn Diagram "
   ]
  },
  {
   "cell_type": "code",
   "execution_count": null,
   "id": "46592adb-c0e0-4788-b1b9-c4f09db4af22",
   "metadata": {},
   "outputs": [],
   "source": [
    "import matplotlib.pyplot as plt\n",
    "from matplotlib_venn import venn3\n",
    "\n",
    "# Count length of each DB\n",
    "A, B, C = len(df_2801), len(df_283), len(df_286)\n",
    "AB, AC, BC, ABC = len(df_2801_intr_283), len(df_2801_intr_286), len(df_283_intr_286), len(df_all)\n",
    "\n",
    "# Create the Venn diagram \n",
    "plt.figure(figsize=(8, 8))\n",
    "venn_diagram = venn3(subsets=(A, B, AB, C, AC, BC, ABC), set_labels=('KG2.8.0.1', 'KG2.8.3', 'KG2.8.6'))\n",
    "\n",
    "# Venn Diagram region lables\n",
    "labels = {'100': A - AB - AC + ABC, '010': B - AB - BC + ABC, '001': C - AC - BC + ABC,\n",
    "          '110': AB - ABC, '101': AC - ABC, '011': BC - ABC, '111': ABC}\n",
    "\n",
    "for label, count in labels.items():\n",
    "    venn_diagram.get_label_by_id(label).set_text(count)\n",
    "\n",
    "plt.title(\"Comparison by Node\")\n",
    "plt.show()"
   ]
  },
  {
   "cell_type": "markdown",
   "id": "7d4eb2c9-aae7-4c3b-b4d9-51a9abaeb714",
   "metadata": {},
   "source": [
    "**Note:**\n",
    "The current venn diagramp package for Matplot cannot create proper diagram for certain \"fringe\" cases.\n",
    "We recommend drawing the three way venn diagram mannually or use of other illustrator tool to generate the figures."
   ]
  },
  {
   "cell_type": "code",
   "execution_count": null,
   "id": "27b27fff-775a-49d6-bf90-70e687b0a266",
   "metadata": {},
   "outputs": [],
   "source": []
  }
 ],
 "metadata": {
  "kernelspec": {
   "display_name": "Python 3 (ipykernel)",
   "language": "python",
   "name": "python3"
  },
  "language_info": {
   "codemirror_mode": {
    "name": "ipython",
    "version": 3
   },
   "file_extension": ".py",
   "mimetype": "text/x-python",
   "name": "python",
   "nbconvert_exporter": "python",
   "pygments_lexer": "ipython3",
   "version": "3.10.13"
  }
 },
 "nbformat": 4,
 "nbformat_minor": 5
}
