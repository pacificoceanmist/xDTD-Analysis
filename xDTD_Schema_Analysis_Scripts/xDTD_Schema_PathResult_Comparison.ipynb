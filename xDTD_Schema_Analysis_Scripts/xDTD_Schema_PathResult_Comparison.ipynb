{
 "cells": [
  {
   "cell_type": "markdown",
   "id": "0e8f39bc-a16f-4ae1-9e4a-e971e43c3bce",
   "metadata": {},
   "source": [
    "## Instructions for Using the Script and Data\n",
    "\n",
    "__Data Location__: /data/sjw6257/xDTD_database/zip_files/tables (`.tar.gz` file of data)\n",
    "\n",
    "__Description__: \n",
    "This script is to conduct schema analysis for each model's Path Result (mechanism of action). The data for each model is stored in KG databases (SQLite). There are three models: ExplainableDTD_v1.3_KG2.8.0.1, ExplainableDTD_v1.0_KG2.8.3, ExplainableDTD_v1.0_KG2.8.6. Extract `PATH_RESULT_TABLE` in CSV file format from the databases in order to conduct the following analysis.\n",
    "\n",
    "Please refer to the code below as example for the schema analysis:"
   ]
  },
  {
   "cell_type": "code",
   "execution_count": null,
   "id": "4bbe84dc-be0e-43e1-95b7-3ba06757b32c",
   "metadata": {},
   "outputs": [],
   "source": [
    "# Set working directory\n",
    "# Copy and transfer the the compressed data file (tar.gz) to the working directory before starting\n",
    "\n",
    "import os\n",
    "os.chdir('/home/grads/sjw6257/xDTD/xDTD_analysis')\n",
    "\n",
    "import pandas as pd\n",
    "import numpy as np\n",
    "import seaborn as sns\n",
    "import matplotlib.pyplot as plt\n",
    "import scipy.stats as stats"
   ]
  },
  {
   "cell_type": "markdown",
   "id": "0045da03-6908-4fa0-9932-bc2d03f0519e",
   "metadata": {},
   "source": [
    "### Extract Path and Path Score"
   ]
  },
  {
   "cell_type": "code",
   "execution_count": null,
   "id": "8c6163a7",
   "metadata": {},
   "outputs": [],
   "source": [
    "df_2801 = pd.read_csv('v1.3_KG2.8.0.1_PathResult_table.csv')\n",
    "df_2801 = df_2801[['path','path_score']]\n",
    "#df_2801"
   ]
  },
  {
   "cell_type": "code",
   "execution_count": null,
   "id": "06167315",
   "metadata": {},
   "outputs": [],
   "source": [
    "df_283 = pd.read_csv('v1.0_KG2.8.3_refresh_PathResult_table.csv')\n",
    "df_283 = df_283[['path','path_score']]\n",
    "#df_283"
   ]
  },
  {
   "cell_type": "code",
   "execution_count": null,
   "id": "5bde337d",
   "metadata": {},
   "outputs": [],
   "source": [
    "df_286 = pd.read_csv('v1.0_KG2.8.6_PathResult_table.csv')\n",
    "df_286 = df_286[['path','path_score']]\n",
    "#df_286"
   ]
  },
  {
   "cell_type": "markdown",
   "id": "48fc236c-9e4e-4537-9741-c4f1235f4690",
   "metadata": {},
   "source": [
    "### Model v2.8.0.1 versus Model v2.8.3 Comparison"
   ]
  },
  {
   "cell_type": "code",
   "execution_count": null,
   "id": "297e3e87-b094-452a-a63c-79f2a095ae85",
   "metadata": {},
   "outputs": [],
   "source": [
    "# Looking at pathways that are present in BOTH KG2.8.0.1 & KG2.8.3\n",
    "df_2801_intr_283 = pd.merge(df_2801,df_283, how='inner', on=['path'],suffixes=('_2801','_283')) \n",
    "df_2801_intr_283"
   ]
  },
  {
   "cell_type": "code",
   "execution_count": null,
   "id": "edf8330c-32a9-4b70-bbb0-304bee309ed1",
   "metadata": {},
   "outputs": [],
   "source": [
    "# How much of the intersect match in respect to each database\n",
    "\n",
    "percent_match_1 = (len(df_2801_intr_283[['path']]) / len(df_2801[['path']])) * 100\n",
    "percent_match_2 = (len(df_2801_intr_283[['path']])/ len(df_283[['path']])) *100\n",
    "print(f\"\\nPercentage of IDs in df_2801 that match: {percent_match_1:.2f}%\")\n",
    "print(f\"\\nPercentage of IDs in df_283 that match: {percent_match_2:.2f}%\")"
   ]
  },
  {
   "cell_type": "markdown",
   "id": "0aac5653-569b-439a-b168-b62f99108171",
   "metadata": {},
   "source": [
    "### Model v2.8.0.1 versus Model v2.8.3 Comparison"
   ]
  },
  {
   "cell_type": "code",
   "execution_count": null,
   "id": "46ec6261-c06e-4478-bb1d-02544245021f",
   "metadata": {},
   "outputs": [],
   "source": [
    "# Looking at pathways that are present in BOTH KG2.8.0.1 & KG2.8.6\n",
    "df_2801_intr_286 = pd.merge(df_2801,df_286, how='inner', on=['path'],suffixes=('_2801','_286'))\n",
    "df_2801_intr_286"
   ]
  },
  {
   "cell_type": "code",
   "execution_count": null,
   "id": "af3d1977-2ed7-4512-a44d-1debee008c88",
   "metadata": {},
   "outputs": [],
   "source": [
    "# How much of the intersect match in respect to each dataframes\n",
    "\n",
    "percent_match_1 = (len(df_2801_intr_286[['path']]) / len(df_2801[['path']])) * 100\n",
    "percent_match_2 = (len(df_2801_intr_286[['path']])/ len(df_286[['path']])) *100\n",
    "print(f\"\\nPercentage of IDs in df_2801 that match: {percent_match_1:.2f}%\")\n",
    "print(f\"\\nPercentage of IDs in df_286 that match: {percent_match_2:.2f}%\")"
   ]
  },
  {
   "cell_type": "markdown",
   "id": "d7c479ee-d455-48ae-b2a2-fa068fd34e61",
   "metadata": {},
   "source": [
    "### Model v2.8.6 versus Model v2.8.3 Comparison"
   ]
  },
  {
   "cell_type": "code",
   "execution_count": null,
   "id": "28afd7f9-7730-4c5e-98dc-2fe18c17ba0a",
   "metadata": {},
   "outputs": [],
   "source": [
    "# Looking at pathways that are present in BOTH KG2.8.6 & KG2.8.3\n",
    "df_283_intr_286 = pd.merge(df_283,df_286, how='inner', on=['path'],suffixes=('_283','_286'))\n",
    "df_283_intr_286"
   ]
  },
  {
   "cell_type": "code",
   "execution_count": null,
   "id": "cc0ab0c5-fa22-436c-b9e9-19d47f57255f",
   "metadata": {},
   "outputs": [],
   "source": [
    "# How much of the intersect match in respect to each dataframes\n",
    "\n",
    "percent_match_1 = (len(df_283_intr_286[['path']]) / len(df_283[['path']])) * 100\n",
    "percent_match_2 = (len(df_283_intr_286[['path']])/ len(df_286[['path']])) *100\n",
    "print(f\"\\nPercentage of IDs in df_283 that match: {percent_match_1:.2f}%\")\n",
    "print(f\"\\nPercentage of IDs in df_286 that match: {percent_match_2:.2f}%\")"
   ]
  },
  {
   "cell_type": "markdown",
   "id": "467deaf0-8edf-4086-ae4c-e92e0ee62021",
   "metadata": {},
   "source": [
    "### Drug-Disease Pairs present in ALL three models"
   ]
  },
  {
   "cell_type": "code",
   "execution_count": null,
   "id": "9ff9b2f2-df03-4eea-b280-fcbfc205441d",
   "metadata": {},
   "outputs": [],
   "source": [
    "# Looking at pathways that are present in ALL THREE KG2.8.0.1, KG2.8.3_refresh, and KG2.8.6\n",
    "df = df_2801.merge(df_283, on=['path']).merge(df_286, on=['path'], suffixes=('_2801','_286','_283'))\n",
    "df.columns = ['path','path_score_2801', 'path_score_283', 'path_score_286'] # rename column\n",
    "\n",
    "df_all = df[['path']]\n",
    "df_all"
   ]
  },
  {
   "cell_type": "code",
   "execution_count": null,
   "id": "1d948a79-3819-4782-b389-b9b79a883504",
   "metadata": {},
   "outputs": [],
   "source": [
    "# How much of the intersect match in respect to each dataframes\n",
    "dataframes = {'df_2801': df_2801, 'df_283': df_283, 'df_286': df_286}\n",
    "for name, df in dataframes.items():\n",
    "    percent_match = (len(df_all) / len(df['path'])) * 100\n",
    "    print(f\"\\nPercentage of matching IDs in {name}: {percent_match:.2f}%\")\n"
   ]
  },
  {
   "cell_type": "markdown",
   "id": "0714a0e3-a67d-452c-ae2e-b1e4c1ab2087",
   "metadata": {},
   "source": [
    "### Venn Diagram"
   ]
  },
  {
   "cell_type": "code",
   "execution_count": null,
   "id": "23532cb9-f8d1-4830-8390-ca1e8f73398a",
   "metadata": {
    "scrolled": true
   },
   "outputs": [],
   "source": [
    "## Install matplot venn diagram package\n",
    "#!pip install matplotlib-venn "
   ]
  },
  {
   "cell_type": "code",
   "execution_count": null,
   "id": "68e387f3",
   "metadata": {},
   "outputs": [],
   "source": [
    "import matplotlib.pyplot as plt\n",
    "from matplotlib_venn import venn3\n",
    "\n",
    "# Count length of each DB\n",
    "A, B, C = len(df_2801), len(df_283), len(df_286)\n",
    "AB, AC, BC, ABC = len(df_2801_intr_283), len(df_2801_intr_286), len(df_283_intr_286), len(df_all)\n",
    "\n",
    "# Create the Venn diagram \n",
    "plt.figure(figsize=(8, 8))\n",
    "venn_diagram = venn3(subsets=(A, B, AB, C, AC, BC, ABC), set_labels=('KG2.8.0.1', 'KG2.8.3', 'KG2.8.6'))\n",
    "\n",
    "# Venn Diagram region lables\n",
    "labels = {'100': A - AB - AC + ABC, '010': B - AB - BC + ABC, '001': C - AC - BC + ABC,\n",
    "          '110': AB - ABC, '101': AC - ABC, '011': BC - ABC, '111': ABC}\n",
    "\n",
    "for label, count in labels.items():\n",
    "    venn_diagram.get_label_by_id(label).set_text(count)\n",
    "\n",
    "plt.title(\"Comparison by Path Result\")\n",
    "plt.show()"
   ]
  },
  {
   "cell_type": "markdown",
   "id": "856aa018-2419-406f-8cd7-16aaddf5f2bb",
   "metadata": {},
   "source": [
    "**Note:**\n",
    "The current venn diagramp package for Matplot cannot create proper diagram for certain \"fringe\" cases e.g. sets that are inside each other without showing the 0 values.\n",
    "We recommend drawing the three way venn diagram mannually or use of other illustrator tool to generate the figures."
   ]
  },
  {
   "cell_type": "code",
   "execution_count": null,
   "id": "27cd4190-ae4d-4f24-bf2d-5878063b9d61",
   "metadata": {},
   "outputs": [],
   "source": []
  }
 ],
 "metadata": {
  "kernelspec": {
   "display_name": "Python 3 (ipykernel)",
   "language": "python",
   "name": "python3"
  },
  "language_info": {
   "codemirror_mode": {
    "name": "ipython",
    "version": 3
   },
   "file_extension": ".py",
   "mimetype": "text/x-python",
   "name": "python",
   "nbconvert_exporter": "python",
   "pygments_lexer": "ipython3",
   "version": "3.10.13"
  }
 },
 "nbformat": 4,
 "nbformat_minor": 5
}
