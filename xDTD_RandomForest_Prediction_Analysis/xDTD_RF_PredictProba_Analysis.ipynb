{
 "cells": [
  {
   "cell_type": "markdown",
   "id": "b5014530-3b15-4c97-87f5-b07cd64cd9d9",
   "metadata": {},
   "source": [
    "## Instructions for Using the Script and Data\n",
    "__Data Location__: /scratch/shared_data_new/xDTD_data_for_stephanie/RF_prediction\n",
    "\n",
    "__Description__: \n",
    "This script is to analyze the predicton performance of Random Forest Classification algorithm component in KGML-xDTD model.\n",
    "There are three csv files corresponding to different versions of models: v2.8.0.1, v2.8.3, and v2.8.6.\n",
    "Random Forest prediction scores were generated and extracted via `xDTD_RandomForest_Instructions` (Jupyter Notebook script).\n",
    "\n",
    "Please refer to the code below for an example of how to extract data and create visualization:"
   ]
  },
  {
   "cell_type": "markdown",
   "id": "e5097d2c-806b-42c5-92e4-a25299ebee25",
   "metadata": {},
   "source": [
    "## Load Packages"
   ]
  },
  {
   "cell_type": "code",
   "execution_count": null,
   "id": "29b664d1-49cf-422e-aff1-c0eee6790309",
   "metadata": {},
   "outputs": [],
   "source": [
    "import os\n",
    "os.chdir('/scratch/shared_data_new/xDTD_data_for_stephanie/RF_prediction')\n",
    "\n",
    "import pandas as pd\n",
    "import numpy as np\n",
    "import seaborn as sns\n",
    "import matplotlib.pyplot as plt\n",
    "import scipy.stats as stats\n",
    "\n",
    "# Read RF Prediction Score CSV files\n",
    "df1 = pd.read_csv('v2.8.0.1_RF_pairs.csv')\n",
    "df2 = pd.read_csv('v2.8.3_RF_pairs.csv')\n",
    "df3 = pd.read_csv('v2.8.6_RF_pairs.csv')"
   ]
  },
  {
   "cell_type": "markdown",
   "id": "867c6c45-a878-4969-966e-6b33dccb4ece",
   "metadata": {},
   "source": [
    "## Start of Prediction Performance Analysis:"
   ]
  },
  {
   "cell_type": "code",
   "execution_count": null,
   "id": "59b44eb6-4463-4c1e-b79f-07feeff68df2",
   "metadata": {},
   "outputs": [],
   "source": [
    "# Load Drug-Disease Pairs\n",
    "pairs = [('PUBCHEM.COMPOUND:456255', 'MONDO:0021680'),('PUBCHEM.COMPOUND:4583', 'MONDO:0005247'),('PUBCHEM.COMPOUND:2082', 'MONDO:0019444'),\n",
    "         ('PUBCHEM.COMPOUND:4583', 'MONDO:0024355'),('PUBCHEM.COMPOUND:4583', 'MONDO:0005972'),('PUBCHEM.COMPOUND:9782', 'MONDO:0011786'),\n",
    "         ('PUBCHEM.COMPOUND:456255', 'MONDO:0020920'),('PUBCHEM.COMPOUND:9782', 'MONDO:0006608'),('PUBCHEM.COMPOUND:38103', 'MONDO:0002258'),\n",
    "         ('PUBCHEM.COMPOUND:4485', 'MONDO:0001134'),('PUBCHEM.COMPOUND:51039', 'MONDO:0005230'),('PUBCHEM.COMPOUND:9782', 'MONDO:0005185'),\n",
    "         ('PUBCHEM.COMPOUND:5865', 'MONDO:0000870'),('PUBCHEM.COMPOUND:2726', 'MONDO:0011295'),('CHEMBL.COMPOUND:CHEMBL1481', 'MONDO:0012818'),\n",
    "         ('PUBCHEM.COMPOUND:6741', 'MONDO:0006554'),('PUBCHEM.COMPOUND:2662', 'MONDO:0011923'),('PUBCHEM.COMPOUND:2710', 'MONDO:0005324'),\n",
    "         ('PUBCHEM.COMPOUND:5743', 'MONDO:0004967'),('PUBCHEM.COMPOUND:456255', 'MONDO:0005545'),('PUBCHEM.COMPOUND:5591', 'MONDO:0010894'),\n",
    "         ('PUBCHEM.COMPOUND:38103', 'MONDO:0009813'),('PUBCHEM.COMPOUND:456255', 'MONDO:0005970'),('PUBCHEM.COMPOUND:5743', 'MONDO:0006670'),\n",
    "         ('PUBCHEM.COMPOUND:126941', 'MONDO:0018874'),('PUBCHEM.COMPOUND:441199', 'MONDO:0006816'),('PUBCHEM.COMPOUND:60149', 'MONDO:0011307'),\n",
    "         ('PUBCHEM.COMPOUND:5865', 'MONDO:0005306'),('PUBCHEM.COMPOUND:5073', 'MONDO:0012054'),('PUBCHEM.COMPOUND:2082', 'MONDO:0005996'),\n",
    "         ('PUBCHEM.COMPOUND:456255', 'MONDO:0005229'),('PUBCHEM.COMPOUND:4583', 'MONDO:0004264'),('PUBCHEM.COMPOUND:9782', 'MONDO:0008728'),\n",
    "         ('PUBCHEM.COMPOUND:6741', 'MONDO:0007243'),('PUBCHEM.COMPOUND:3878', 'MONDO:0005384'),('PUBCHEM.COMPOUND:5503', 'MONDO:0011667'),\n",
    "         ('PUBCHEM.COMPOUND:3394', 'MONDO:0005178'),('PUBCHEM.COMPOUND:5591', 'MONDO:0007453'),('PUBCHEM.COMPOUND:2726', 'MONDO:0013498'),\n",
    "         ('PUBCHEM.COMPOUND:4912', 'MONDO:0012893'),('PUBCHEM.COMPOUND:4921', 'MONDO:0008143'),('PUBCHEM.COMPOUND:5754', 'MONDO:0005984'),\n",
    "         ('PUBCHEM.COMPOUND:31307', 'MONDO:0019558'),('PUBCHEM.COMPOUND:3478', 'MONDO:0011668'),('PUBCHEM.COMPOUND:5591', 'MONDO:0013242'),\n",
    "         ('PUBCHEM.COMPOUND:2726', 'MONDO:0011280'),('PUBCHEM.COMPOUND:5503', 'MONDO:0014674'),('PUBCHEM.COMPOUND:9782', 'MONDO:0013108'),\n",
    "         ('PUBCHEM.COMPOUND:5865', 'MONDO:0007817'),('PUBCHEM.COMPOUND:5743', 'MONDO:0005615'),('PUBCHEM.COMPOUND:5865', 'MONDO:0012105'),\n",
    "         ('PUBCHEM.COMPOUND:38103', 'MONDO:0001039'),('PUBCHEM.COMPOUND:126941', 'MONDO:0008903'),('PUBCHEM.COMPOUND:9782', 'MONDO:0010273'),\n",
    "         ('PUBCHEM.COMPOUND:5282411', 'MONDO:0005709'),('PUBCHEM.COMPOUND:3690', 'MONDO:0004948'),('PUBCHEM.COMPOUND:5865', 'MONDO:0000607'),\n",
    "         ('PUBCHEM.COMPOUND:3446', 'MONDO:0000675'),('PUBCHEM.COMPOUND:4583', 'MONDO:0005297'),('PUBCHEM.COMPOUND:2082', 'MONDO:0005654'),\n",
    "         ('PUBCHEM.COMPOUND:4583', 'MONDO:0005619'),('PUBCHEM.COMPOUND:444008', 'MONDO:0008159'),('PUBCHEM.COMPOUND:5865', 'MONDO:0011849'),\n",
    "         ('PUBCHEM.COMPOUND:5743', 'MONDO:0018479'),('PUBCHEM.COMPOUND:4583', 'MONDO:0005246'),('PUBCHEM.COMPOUND:126941', 'MONDO:0004638'),\n",
    "         ('PUBCHEM.COMPOUND:9782', 'MONDO:0015898'),('PUBCHEM.COMPOUND:5865', 'MONDO:0004126'),('PUBCHEM.COMPOUND:5388906', 'MONDO:0005861'),\n",
    "         ('PUBCHEM.COMPOUND:2726', 'MONDO:0005618'),('PUBCHEM.COMPOUND:5743', 'MONDO:0021166'),('PUBCHEM.COMPOUND:6741', 'MONDO:0006545'),\n",
    "         ('PUBCHEM.COMPOUND:51039', 'MONDO:0004652'),('PUBCHEM.COMPOUND:5743', 'MONDO:0008558'),('PUBCHEM.COMPOUND:9782', 'MONDO:0005083'),\n",
    "         ('PUBCHEM.COMPOUND:5282493', 'MONDO:0005480'),('PUBCHEM.COMPOUND:5865', 'MONDO:0001713'),('PUBCHEM.COMPOUND:9782', 'MONDO:0001405'),\n",
    "         ('CHEMBL.COMPOUND:CHEMBL1481', 'MONDO:0011955'),('PUBCHEM.COMPOUND:5503', 'MONDO:0005148'),('PUBCHEM.COMPOUND:3823', 'MONDO:0001461'),\n",
    "         ('PUBCHEM.COMPOUND:5865', 'MONDO:0005554'),('PUBCHEM.COMPOUND:5865', 'MONDO:0004956'),('PUBCHEM.COMPOUND:9782', 'MONDO:0006547'),\n",
    "         ('PUBCHEM.COMPOUND:3878', 'MONDO:0010826'),('PUBCHEM.COMPOUND:4583', 'MONDO:0005945'),('PUBCHEM.COMPOUND:9782', 'MONDO:0008729'),\n",
    "         ('PUBCHEM.COMPOUND:3823', 'MONDO:0005915'),('PUBCHEM.COMPOUND:5770', 'MONDO:0011294'),('PUBCHEM.COMPOUND:5578', 'MONDO:0024330'),\n",
    "         ('PUBCHEM.COMPOUND:6216', 'MONDO:0004980'),('PUBCHEM.COMPOUND:3823', 'MONDO:0005672'),('PUBCHEM.COMPOUND:2726', 'MONDO:0011498'),\n",
    "         ('PUBCHEM.COMPOUND:5073', 'MONDO:0011552'),('PUBCHEM.COMPOUND:3878', 'MONDO:0016532'),('PUBCHEM.COMPOUND:135398735', 'MONDO:0012268'),\n",
    "         ('PUBCHEM.COMPOUND:5865', 'MONDO:0015614'),('PUBCHEM.COMPOUND:5754', 'MONDO:0014241'),('PUBCHEM.COMPOUND:4583', 'MONDO:0018076'),\n",
    "         ('PUBCHEM.COMPOUND:5743', 'MONDO:0006042'),('PUBCHEM.COMPOUND:2082', 'MONDO:0001103'),('PUBCHEM.COMPOUND:441401', 'MONDO:0024313'),\n",
    "         ('PUBCHEM.COMPOUND:60750', 'MONDO:0024879'),('PUBCHEM.COMPOUND:4583', 'MONDO:0005124'),('PUBCHEM.COMPOUND:5865', 'MONDO:0009539'),\n",
    "         ('CHEMBL.COMPOUND:CHEMBL1481', 'MONDO:0011072'),('PUBCHEM.COMPOUND:5865', 'MONDO:0005556'),('PUBCHEM.COMPOUND:451668', 'MONDO:0005374'),\n",
    "         ('PUBCHEM.COMPOUND:2554', 'MONDO:0008414'),('PUBCHEM.COMPOUND:5865', 'MONDO:0001198'),('PUBCHEM.COMPOUND:5865', 'MONDO:0019203'),\n",
    "         ('PUBCHEM.COMPOUND:5743', 'MONDO:0009971'),('PUBCHEM.COMPOUND:5865', 'MONDO:0001509'),('PUBCHEM.COMPOUND:9782', 'MONDO:0013294'),\n",
    "         ('PUBCHEM.COMPOUND:5324346', 'MONDO:0001247'),('PUBCHEM.COMPOUND:5754', 'MONDO:0004773'),('PUBCHEM.COMPOUND:135398745', 'MONDO:0002009'),\n",
    "         ('PUBCHEM.COMPOUND:135398735', 'MONDO:0000369'),('PUBCHEM.COMPOUND:5865', 'MONDO:0012935'),('PUBCHEM.COMPOUND:5073', 'MONDO:0013089'),\n",
    "         ('PUBCHEM.COMPOUND:6741', 'MONDO:0008725'),('PUBCHEM.COMPOUND:441314', 'MONDO:0013240'),('PUBCHEM.COMPOUND:60750', 'MONDO:0021040'),\n",
    "         ('PUBCHEM.COMPOUND:6741', 'MONDO:0010762'),('PUBCHEM.COMPOUND:6741', 'MONDO:0043455'),('PUBCHEM.COMPOUND:9782', 'MONDO:0006548'),\n",
    "         ('PUBCHEM.COMPOUND:3151', 'MONDO:0002268'),('PUBCHEM.COMPOUND:441401', 'MONDO:0017776'),('PUBCHEM.COMPOUND:2576', 'MONDO:0001830'),\n",
    "         ('PUBCHEM.COMPOUND:6741', 'MONDO:0005377'),('PUBCHEM.COMPOUND:6509979', 'MONDO:0011598'),('CHEMBL.COMPOUND:CHEMBL1481', 'MONDO:0011363'),\n",
    "         ('PUBCHEM.COMPOUND:9782', 'MONDO:0013893'),('PUBCHEM.COMPOUND:3478', 'MONDO:0012348'),('PUBCHEM.COMPOUND:6741', 'MONDO:0013730'),\n",
    "         ('PUBCHEM.COMPOUND:51039', 'MONDO:0005892'),('PUBCHEM.COMPOUND:5865', 'MONDO:0019127'),('PUBCHEM.COMPOUND:5754', 'MONDO:0004857'),\n",
    "         ('PUBCHEM.COMPOUND:126941', 'MONDO:0005340'),('PUBCHEM.COMPOUND:5865', 'MONDO:0005093'),('PUBCHEM.COMPOUND:2726', 'MONDO:0013506'),\n",
    "         ('PUBCHEM.COMPOUND:4173', 'MONDO:0002154'),('PUBCHEM.COMPOUND:4173', 'MONDO:0006669'),('PUBCHEM.COMPOUND:2165', 'MONDO:0005920'),\n",
    "         ('PUBCHEM.COMPOUND:4659569', 'MONDO:0014604'),('PUBCHEM.COMPOUND:3394', 'MONDO:0008383'),('PUBCHEM.COMPOUND:5311066', 'MONDO:0006569'),\n",
    "         ('PUBCHEM.COMPOUND:92727', 'MONDO:0005109'),('PUBCHEM.COMPOUND:3823', 'MONDO:0001648'),('PUBCHEM.COMPOUND:5865', 'MONDO:0002081'),\n",
    "         ('PUBCHEM.COMPOUND:6741', 'MONDO:0043789'),('PUBCHEM.COMPOUND:5865', 'MONDO:0012318'),('PUBCHEM.COMPOUND:5503', 'MONDO:0011027'),\n",
    "         ('PUBCHEM.COMPOUND:5865', 'MONDO:0008219')]"
   ]
  },
  {
   "cell_type": "markdown",
   "id": "8fc48188-9d7a-4820-957a-adac528d2bde",
   "metadata": {},
   "source": [
    "### Extract Prediction Probability Scores of Drug-Disease Pairs "
   ]
  },
  {
   "cell_type": "code",
   "execution_count": null,
   "id": "020fed9b-6f33-42c6-ac1f-95c7e1529632",
   "metadata": {},
   "outputs": [],
   "source": [
    "from tqdm.notebook import tqdm\n",
    "from time import sleep\n",
    "\n",
    "def filter_dataframe(df, pairs):\n",
    "    extracted_elements = []\n",
    "    for drug_id, disease_id in tqdm(pairs, desc='Filtering rows'):\n",
    "        # Filter the DataFrame for rows where 'drug_id' and 'disease_id' match the current pair\n",
    "        matched_rows = df[(df['drug_id'] == drug_id) & (df['disease_id'] == disease_id)]\n",
    "        \n",
    "        # Append the matched rows to your list (if any)\n",
    "        if not matched_rows.empty:\n",
    "            extracted_elements.append(matched_rows)\n",
    "    \n",
    "    return extracted_elements\n",
    "\n",
    "# extracted_elements contains the DataFrames from each dataframes that match the pairs\n",
    "df1_filt = filter_dataframe(df1, pairs)\n",
    "df2_filt = filter_dataframe(df2, pairs)\n",
    "df3_filt = filter_dataframe(df3, pairs)"
   ]
  },
  {
   "cell_type": "code",
   "execution_count": null,
   "id": "a2cc6f24-36dc-439a-b131-d896ec00a307",
   "metadata": {},
   "outputs": [],
   "source": [
    "df1_pairs = pd.concat(df1_filt, ignore_index=True).drop(columns=['tn_score', 'unknown_score']) # v2.8.0.1\n",
    "df2_pairs = pd.concat(df2_filt, ignore_index=True).drop(columns=['tn_score', 'unknown_score']) # v2.8.3\n",
    "df3_pairs = pd.concat(df3_filt, ignore_index=True).drop(columns=['tn_score', 'unknown_score']) # v.2.8.6"
   ]
  },
  {
   "cell_type": "code",
   "execution_count": null,
   "id": "43d8eacb-4250-4e8c-adc9-b45db9d0bd6a",
   "metadata": {},
   "outputs": [],
   "source": [
    "# Display the prediction score in dataframe format\n",
    "df1_pairs # v2.8.0.1"
   ]
  },
  {
   "cell_type": "code",
   "execution_count": null,
   "id": "07056503-7073-49ae-8b89-d3a84eb8c7f1",
   "metadata": {},
   "outputs": [],
   "source": [
    "df2_pairs # v2.8.3"
   ]
  },
  {
   "cell_type": "code",
   "execution_count": null,
   "id": "9d852bde-5638-417e-83ae-cea90ef8078a",
   "metadata": {},
   "outputs": [],
   "source": [
    "df3_pairs # v2.8.6"
   ]
  },
  {
   "cell_type": "markdown",
   "id": "6308d2e8-1df4-446e-9878-f47a1acae7ba",
   "metadata": {},
   "source": [
    "#### Compile the data model versions 2.8.0.1, 2.8.3 & 2.8.6"
   ]
  },
  {
   "cell_type": "code",
   "execution_count": null,
   "id": "41007e0b-11c7-4b4d-b19f-721cf85ef65e",
   "metadata": {},
   "outputs": [],
   "source": [
    "merged_df = pd.merge(pd.merge(df1_pairs, df2_pairs, on=['disease_id', 'drug_id'], \n",
    "                              how='inner', suffixes=('_df1', '_df2')), \n",
    "                     df3_pairs, on=['disease_id', 'drug_id'], how='inner')\n",
    "merged_df"
   ]
  },
  {
   "cell_type": "markdown",
   "id": "1d73227b-061b-4431-a92c-0b89c3ee0113",
   "metadata": {},
   "source": [
    "### Scatter Plot of Drug-Disease Pairs Prediction"
   ]
  },
  {
   "cell_type": "code",
   "execution_count": null,
   "id": "23e77cb6",
   "metadata": {},
   "outputs": [],
   "source": [
    "# Create the scatter plot for each model by each disease id\n",
    "\n",
    "## 100 diseases ##\n",
    "df_100 = merged_df.head(100)\n",
    "\n",
    "# Create scatter plot\n",
    "plt.figure(figsize=(10, 6))\n",
    "\n",
    "# Plotting each tp_score\n",
    "plt.scatter(df_100.index, df_100['tp_score_df1'], color= '#DC267F', marker = 'o', label='KG2.8.0.1')\n",
    "plt.scatter(df_100.index, df_100['tp_score_df2'], color= '#648FFF', marker = 's', label='KG2.8.3')\n",
    "plt.scatter(df_100.index, df_100['tp_score'], color= '#FFB000', marker = 'D', label='v2.8.6')\n",
    "\n",
    "# Adding title and labels\n",
    "#plt.title('RF Prediction Probability Performance')\n",
    "plt.xlabel('Disease ID')\n",
    "plt.ylabel('Probability (TP Score)')\n",
    "plt.xticks([0,10,20,30,40,50,60,70,80,90,100])\n",
    "plt.xticks(rotation=45)\n",
    "plt.legend(loc='lower right')\n",
    "plt.tight_layout()\n",
    "\n",
    "# Save the figure\n",
    "plt.savefig('Fig3.png',dpi=1000)\n",
    "\n",
    "# Display plot\n",
    "plt.show()"
   ]
  },
  {
   "cell_type": "code",
   "execution_count": null,
   "id": "77c57813-cebe-476f-b2fc-446bc490bb1d",
   "metadata": {},
   "outputs": [],
   "source": [
    "## 154 Drug-Disease Pairs ##\n",
    "plt.figure(figsize=(10, 6))\n",
    "\n",
    "# Plotting each tp_score, row idex will be used as proxy to disease_id\n",
    "plt.scatter(merged_df.index, merged_df['tp_score_df1'], color= '#DC267F', marker = 'o', label='v2.8.0.1')\n",
    "plt.scatter(merged_df.index, merged_df['tp_score_df2'], color= '#648FFF', marker = 's', label='v2.8.3')\n",
    "plt.scatter(merged_df.index, merged_df['tp_score'], color= '#FFB000', marker = 'D', label='v2.8.6')\n",
    "\n",
    "# Adding title and labels\n",
    "plt.title('Scatter plot of tp_scores vs disease_id')\n",
    "plt.xlabel('Disease ID')\n",
    "plt.ylabel('Tp Scores')\n",
    "plt.xticks([0,10,20,30,40,50,60,70,80,90,100,110,120,130,140,150])\n",
    "plt.xticks(rotation=45)\n",
    "plt.legend()\n",
    "plt.tight_layout()\n",
    "plt.show()"
   ]
  },
  {
   "cell_type": "code",
   "execution_count": null,
   "id": "2d7b7de4",
   "metadata": {},
   "outputs": [],
   "source": [
    "## 10 diseases ##\n",
    "df_10 = merged_df.head(10)\n",
    "\n",
    "# Create scatter plot\n",
    "plt.figure(figsize=(10, 6))\n",
    "\n",
    "# Plotting each tp_score\n",
    "plt.scatter(df_10.index, df_10['tp_score_df1'], color= '#DC267F', marker = 'o', label='v2.8.0.1')\n",
    "plt.scatter(df_10.index, df_10['tp_score_df2'], color= '#648FFF', marker = 's', label='v2.8.3')\n",
    "plt.scatter(df_10.index, df_10['tp_score'], color= '#FFB000', marker = 'D', label='v2.8.6')\n",
    "\n",
    "# Adding title and labels\n",
    "plt.title('Scatter plot of tp_scores vs disease_id')\n",
    "plt.xlabel('Disease ID')\n",
    "plt.ylabel('Tp Scores')\n",
    "plt.xticks(rotation=45)\n",
    "plt.xticks([0,1,2,3,4,5,6,7,8,9])\n",
    "#plt.yticks([0.80,0.85,0.90,0.95,1])\n",
    "plt.legend(loc='lower left')\n",
    "plt.tight_layout()\n",
    "plt.show()"
   ]
  },
  {
   "cell_type": "code",
   "execution_count": null,
   "id": "9168137d-5d6b-4405-822d-0105208d4904",
   "metadata": {},
   "outputs": [],
   "source": [
    "# Creating box plot to show the distribution of prediction probabilities by model\n",
    "\n",
    "plt.figure(figsize=(8, 6), dpi=300)  # Adjust the DPI for high resolution\n",
    "\n",
    "# Creating the box plot\n",
    "boxplot = plt.boxplot([merged_df['tp_score_df1'], merged_df['tp_score_df2'], merged_df['tp_score']], \n",
    "                      labels=['v2.8.0.1', 'v2.8.3', 'v2.8.6'],\n",
    "                      patch_artist=True,  # Fill with color\n",
    "                      medianprops=dict(color='black'))  # Median line color\n",
    "\n",
    "# Customizing colors for boxes, whiskers, caps, and outliers\n",
    "colors = ['#DC267F', '#648FFF', '#FFB000']\n",
    "for patch, color in zip(boxplot['boxes'], colors):\n",
    "    patch.set_facecolor(color)  # Box color\n",
    "    patch.set_edgecolor('black')  # Box edge color\n",
    "\n",
    "for whisker, cap in zip(boxplot['whiskers'], boxplot['caps']):\n",
    "    whisker.set_color('black')  # Whisker color\n",
    "    whisker.set_linewidth(1.5)  # Whisker line width\n",
    "    cap.set_color('black')  # Cap color\n",
    "\n",
    "for flier in boxplot['fliers']:\n",
    "    flier.set(marker='o', color='red', alpha=0.5)  # Outlier color\n",
    "\n",
    "# Adding title and labels\n",
    "plt.title('RF Prediction Probability Performance', fontsize=16)  # Increase font size for title\n",
    "plt.ylabel('Probability (TP Score)', fontsize=14)  # Increase font size for ylabel\n",
    "plt.xticks(fontsize=12)  # Increase font size for x-axis labels\n",
    "plt.yticks(fontsize=12)  # Increase font size for y-axis labels\n",
    "\n",
    "# Add gridlines\n",
    "plt.grid(True)\n",
    "\n",
    "# Adjust the layout for better spacing\n",
    "plt.tight_layout()\n",
    "\n",
    "# Save the plot as a high-quality image\n",
    "#plt.savefig('RF_Prediction_Probability_Performance_Boxplot.png', dpi=300)\n",
    "\n",
    "plt.show()\n"
   ]
  },
  {
   "cell_type": "code",
   "execution_count": null,
   "id": "b8aba680-16ba-41cd-91a9-dd812d3daad6",
   "metadata": {},
   "outputs": [],
   "source": []
  }
 ],
 "metadata": {
  "kernelspec": {
   "display_name": "Python 3 (ipykernel)",
   "language": "python",
   "name": "python3"
  },
  "language_info": {
   "codemirror_mode": {
    "name": "ipython",
    "version": 3
   },
   "file_extension": ".py",
   "mimetype": "text/x-python",
   "name": "python",
   "nbconvert_exporter": "python",
   "pygments_lexer": "ipython3",
   "version": "3.11.5"
  }
 },
 "nbformat": 4,
 "nbformat_minor": 5
}
