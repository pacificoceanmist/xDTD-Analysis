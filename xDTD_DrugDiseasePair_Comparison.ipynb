{
 "cells": [
  {
   "cell_type": "code",
   "execution_count": null,
   "id": "f11abaf5-fb13-42cb-b4a8-703a17594f24",
   "metadata": {},
   "outputs": [],
   "source": [
    "# Set working directory\n",
    "import os\n",
    "os.chdir('/home/grads/sjw6257/xDTD/xDTD_analysis')\n",
    "\n",
    "import pandas as pd\n",
    "import numpy as np\n",
    "import seaborn as sns\n",
    "import matplotlib.pyplot as plt\n",
    "import scipy.stats as stats"
   ]
  },
  {
   "cell_type": "markdown",
   "id": "8c460c8e-8af4-4185-80ba-1c617b86bf4e",
   "metadata": {},
   "source": [
    "### Extract Drug-Disease Pair"
   ]
  },
  {
   "cell_type": "code",
   "execution_count": null,
   "id": "64777171-dc78-4617-ac25-29d23a429e77",
   "metadata": {},
   "outputs": [],
   "source": [
    "df_2801 = pd.read_csv('KG2.8.0.1_DrugDiseaseScore.csv', dtype='unicode', low_memory=False)\n",
    "df_2801 = df_2801[['drug_id','disease_id','disease_name']] #805,897 pairs"
   ]
  },
  {
   "cell_type": "code",
   "execution_count": null,
   "id": "5baa4d23-724f-4bcc-a343-927b1e2ae3dc",
   "metadata": {},
   "outputs": [],
   "source": [
    "df_283 = pd.read_csv('KG2.8.3_DrugDiseaseScore.csv', dtype='unicode', low_memory=False)\n",
    "df_283 = df_283[['drug_id','disease_id','disease_name']] #1,060,956 pairs"
   ]
  },
  {
   "cell_type": "code",
   "execution_count": null,
   "id": "22b9a8e5-4f58-4b31-bb3a-cffa52aec573",
   "metadata": {},
   "outputs": [],
   "source": [
    "df_286 = pd.read_csv('KG2.8.6_DrugDiseaseScore.csv', dtype='unicode', low_memory=False)\n",
    "df_286 = df_286[['drug_id','disease_id','disease_name']] #2,172,813 pairs"
   ]
  },
  {
   "cell_type": "markdown",
   "id": "41bdef62-20fc-4e33-97b7-8b5a772de32e",
   "metadata": {},
   "source": [
    "### 2801 intersect 283?"
   ]
  },
  {
   "cell_type": "code",
   "execution_count": null,
   "id": "9a5e620a-a1c2-48c8-8f0d-44426a0eef99",
   "metadata": {},
   "outputs": [],
   "source": [
    "df_2801_intr_283 = pd.merge(df_2801,df_283, how='inner', on=['drug_id','disease_id'],suffixes=('_2801','_283')) \n",
    "df_2801_intr_283 # 805897 pairs"
   ]
  },
  {
   "cell_type": "code",
   "execution_count": null,
   "id": "41872085-f48b-4f5c-9e57-a45f15f34c08",
   "metadata": {},
   "outputs": [],
   "source": [
    "# How much of the intersect match in respect to each database\n",
    "\n",
    "percent_match_1 = (len(df_2801_intr_283[['drug_id', 'disease_id']]) / len(df_2801[['drug_id', 'disease_id']])) * 100\n",
    "percent_match_2 = len(df_2801_intr_283[['drug_id', 'disease_id']])/ len(df_283[['drug_id', 'disease_id']]) *100\n",
    "print(f\"\\nPercentage of IDs in df_2801 that match: {percent_match_1:.2f}%\")\n",
    "print(f\"\\nPercentage of IDs in df_283 that match: {percent_match_2:.2f}%\")"
   ]
  },
  {
   "cell_type": "markdown",
   "id": "3cb73615-c984-4299-a5cd-f44955935bd3",
   "metadata": {},
   "source": [
    "### 2801 intersect 286?"
   ]
  },
  {
   "cell_type": "code",
   "execution_count": null,
   "id": "d567976b-b65d-45db-8265-fd7558cb63e8",
   "metadata": {},
   "outputs": [],
   "source": [
    "df_2801_intr_286 = pd.merge(df_2801,df_286, how='inner', on=['drug_id','disease_id'],suffixes=('_2801','_286')) \n",
    "df_2801_intr_286 # 64269 pairs"
   ]
  },
  {
   "cell_type": "code",
   "execution_count": null,
   "id": "0e5b9cc9-5310-463a-9b0b-68e49afb26b6",
   "metadata": {},
   "outputs": [],
   "source": [
    "# How much of the intersect match in respect to each dataframes\n",
    "\n",
    "percent_match_1 = (len(df_2801_intr_286[['drug_id', 'disease_id']]) / len(df_2801[['drug_id', 'disease_id']])) * 100\n",
    "percent_match_2 = len(df_2801_intr_286[['drug_id', 'disease_id']])/ len(df_286[['drug_id', 'disease_id']]) *100\n",
    "print(f\"\\nPercentage of IDs in df_2801 that match: {percent_match_1:.2f}%\")\n",
    "print(f\"\\nPercentage of IDs in df_286 that match: {percent_match_2:.2f}%\")"
   ]
  },
  {
   "cell_type": "markdown",
   "id": "c14c1553-0bb5-4d69-ae88-21a25cb74602",
   "metadata": {},
   "source": [
    "### 283 intersect 286?"
   ]
  },
  {
   "cell_type": "code",
   "execution_count": null,
   "id": "4ce16812-f439-4531-a942-68d1e300caa2",
   "metadata": {},
   "outputs": [],
   "source": [
    "df_283_intr_286 = pd.merge(df_283,df_286, how='inner', on=['drug_id','disease_id'],suffixes=('_283','_286'))\n",
    "df_283_intr_286 # 84278 pairs"
   ]
  },
  {
   "cell_type": "code",
   "execution_count": null,
   "id": "6a880459-e87c-499f-a1e6-b74efdd3f052",
   "metadata": {},
   "outputs": [],
   "source": [
    "# How much of the intersect match in respect to each dataframes\n",
    "\n",
    "percent_match_1 = (len(df_283_intr_286[['drug_id', 'disease_id']]) / len(df_283[['drug_id', 'disease_id']])) * 100\n",
    "percent_match_2 = len(df_283_intr_286[['drug_id', 'disease_id']])/ len(df_286[['drug_id', 'disease_id']]) *100\n",
    "print(f\"\\nPercentage of IDs in df_283 that match: {percent_match_1:.2f}%\")\n",
    "print(f\"\\nPercentage of IDs in df_286 that match: {percent_match_2:.2f}%\")"
   ]
  },
  {
   "cell_type": "code",
   "execution_count": null,
   "id": "d3068bcb-b56a-4fc4-b2fa-d341971d66da",
   "metadata": {},
   "outputs": [],
   "source": []
  },
  {
   "cell_type": "markdown",
   "id": "85bf5dce-b9b4-40bd-9d7d-91629b336574",
   "metadata": {},
   "source": [
    "### Present in ALL three?"
   ]
  },
  {
   "cell_type": "code",
   "execution_count": null,
   "id": "f7b5b107-8c60-4748-abea-085fa3f0af07",
   "metadata": {},
   "outputs": [],
   "source": [
    "# Drug-Disease pairs present in ALL THREE KG2.8.0.1, KG2.8.3_refresh, and KG2.8.6\n",
    "df = df_2801.merge(df_283, on=['drug_id', 'disease_id']).merge(df_286, on=['drug_id', 'disease_id'], suffixes=('_2801','_286','_283'))\n",
    "df.columns = ['drug_id','disease_id', '2801', '283', '286'] # rename column\n",
    "\n",
    "df_all = df[['drug_id','disease_id']]\n",
    "df_all # 64269 pairs"
   ]
  },
  {
   "cell_type": "code",
   "execution_count": null,
   "id": "35ea122a-51a3-4966-9f54-022c35ebe87c",
   "metadata": {},
   "outputs": [],
   "source": [
    "dataframes = {'df_2801': df_2801, 'df_283': df_283, 'df_286': df_286}\n",
    "for name, df in dataframes.items():\n",
    "    percent_match = len(df_all) / len(df[['drug_id', 'disease_id']]) * 100\n",
    "    print(f\"\\nPercentage of matching IDs in {name}: {percent_match:.2f}%\")"
   ]
  },
  {
   "cell_type": "markdown",
   "id": "31f875f5-7ae3-4b07-b858-c5093bfa84dd",
   "metadata": {},
   "source": [
    "### Venn Diagram "
   ]
  },
  {
   "cell_type": "code",
   "execution_count": null,
   "id": "690cd433-a8dd-4550-ab9d-1af24b251062",
   "metadata": {},
   "outputs": [],
   "source": [
    "import matplotlib.pyplot as plt\n",
    "from matplotlib_venn import venn3\n",
    "\n",
    "# Count length of each DB\n",
    "A, B, C = len(df_2801), len(df_283), len(df_286)\n",
    "AB, AC, BC, ABC = len(df_2801_intr_283), len(df_2801_intr_286), len(df_283_intr_286), len(df_all)\n",
    "\n",
    "# Create the Venn diagram \n",
    "plt.figure(figsize=(8, 8))\n",
    "venn_diagram = venn3(subsets=(A, B, AB, C, AC, BC, ABC), set_labels=('KG2.8.0.1', 'KG2.8.3', 'KG2.8.6'))\n",
    "\n",
    "# Venn Diagram region lables\n",
    "labels = {'100': A - AB - AC + ABC, '010': B - AB - BC + ABC, '001': C - AC - BC + ABC,\n",
    "          '110': AB - ABC, '101': AC - ABC, '011': BC - ABC, '111': ABC}\n",
    "\n",
    "for label, count in labels.items():\n",
    "    venn_diagram.get_label_by_id(label).set_text(count)\n",
    "\n",
    "plt.title(\"Three-Way Venn Diagram: Drug-Disease Pair\")\n",
    "plt.show()"
   ]
  },
  {
   "cell_type": "code",
   "execution_count": null,
   "id": "6abdc066-a21c-4c15-bd56-29ca77f52220",
   "metadata": {},
   "outputs": [],
   "source": []
  }
 ],
 "metadata": {
  "kernelspec": {
   "display_name": "Python 3 (ipykernel)",
   "language": "python",
   "name": "python3"
  },
  "language_info": {
   "codemirror_mode": {
    "name": "ipython",
    "version": 3
   },
   "file_extension": ".py",
   "mimetype": "text/x-python",
   "name": "python",
   "nbconvert_exporter": "python",
   "pygments_lexer": "ipython3",
   "version": "3.10.13"
  }
 },
 "nbformat": 4,
 "nbformat_minor": 5
}
